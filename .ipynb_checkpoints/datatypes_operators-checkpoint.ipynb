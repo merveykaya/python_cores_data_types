{
 "cells": [
  {
   "cell_type": "markdown",
   "id": "6fa65524",
   "metadata": {},
   "source": [
    "# ☛ a python beginner needs to know : data types & operators"
   ]
  },
  {
   "cell_type": "markdown",
   "id": "f397e1a8",
   "metadata": {},
   "source": [
    "\n",
    "While you're programming in Python, there are a few things you should keep in mind.\n",
    "\n",
    "* Python is case sensitive.\n",
    "\n",
    "* Spacing is important.\n",
    "\n",
    "* Use error messages to help you learn."
   ]
  },
  {
   "cell_type": "code",
   "execution_count": 1,
   "id": "bb643111",
   "metadata": {},
   "outputs": [
    {
     "name": "stdout",
     "output_type": "stream",
     "text": [
      "The Zen of Python, by Tim Peters\n",
      "\n",
      "Beautiful is better than ugly.\n",
      "Explicit is better than implicit.\n",
      "Simple is better than complex.\n",
      "Complex is better than complicated.\n",
      "Flat is better than nested.\n",
      "Sparse is better than dense.\n",
      "Readability counts.\n",
      "Special cases aren't special enough to break the rules.\n",
      "Although practicality beats purity.\n",
      "Errors should never pass silently.\n",
      "Unless explicitly silenced.\n",
      "In the face of ambiguity, refuse the temptation to guess.\n",
      "There should be one-- and preferably only one --obvious way to do it.\n",
      "Although that way may not be obvious at first unless you're Dutch.\n",
      "Now is better than never.\n",
      "Although never is often better than *right* now.\n",
      "If the implementation is hard to explain, it's a bad idea.\n",
      "If the implementation is easy to explain, it may be a good idea.\n",
      "Namespaces are one honking great idea -- let's do more of those!\n"
     ]
    }
   ],
   "source": [
    "import this"
   ]
  },
  {
   "cell_type": "markdown",
   "id": "8c1c2a91",
   "metadata": {},
   "source": [
    "## Data Types : boolean, sets, sequence types, numeric, dictionary\n"
   ]
  },
  {
   "cell_type": "markdown",
   "id": "2cc603b3",
   "metadata": {},
   "source": [
    "\n",
    "**Data types**: <img src=\"images/data_types.png\" width=900 height=900 />\n"
   ]
  },
  {
   "cell_type": "markdown",
   "id": "1906d737",
   "metadata": {},
   "source": [
    "### Boolean : and, or, not\n"
   ]
  },
  {
   "cell_type": "markdown",
   "id": "55a6cea7",
   "metadata": {},
   "source": [
    "* The Python Boolean type's used to represent `the truth value of an expression`.\n",
    "\n",
    "* The `bool()` function converts the given value to a boolean value ( True or False ). \n",
    "\n",
    "> Don't forget T and F should be capital bec Python is case sensitive.\n",
    "\n",
    "> Returning 1 for True and 0 for False.\n"
   ]
  },
  {
   "cell_type": "code",
   "execution_count": 2,
   "id": "af88ef06",
   "metadata": {},
   "outputs": [
    {
     "name": "stdout",
     "output_type": "stream",
     "text": [
      "True\n"
     ]
    }
   ],
   "source": [
    "x = 1 \n",
    "print(bool(x))"
   ]
  },
  {
   "cell_type": "code",
   "execution_count": 3,
   "id": "cb2f64e6",
   "metadata": {},
   "outputs": [
    {
     "name": "stdout",
     "output_type": "stream",
     "text": [
      "b is false\n"
     ]
    }
   ],
   "source": [
    "a = True \n",
    "b = False\n",
    "\n",
    "if b == True:\n",
    "  print(\"b is true\")\n",
    "\n",
    "if b:\n",
    "  print(\"b is true\") # this is the shorthand of the above IF statement\n",
    "  \n",
    "if b == False:\n",
    "  print(\"b is false\") "
   ]
  },
  {
   "cell_type": "code",
   "execution_count": 4,
   "id": "aaeca3ae",
   "metadata": {},
   "outputs": [
    {
     "name": "stdout",
     "output_type": "stream",
     "text": [
      "b is greater than a\n"
     ]
    }
   ],
   "source": [
    "a = -11\n",
    "b = 9\n",
    "\n",
    "if b > a:\n",
    "  print(\"b is greater than a\")\n",
    "else:\n",
    "  print(\"b is not greater than a\")"
   ]
  },
  {
   "cell_type": "code",
   "execution_count": 5,
   "id": "d6b9e970",
   "metadata": {},
   "outputs": [
    {
     "name": "stdout",
     "output_type": "stream",
     "text": [
      "Provide your name : merve\n",
      "Provide your email : nhfjf\n",
      "Provide your year of birth : .lj\n",
      "Congrats! You are able to sign up\n"
     ]
    }
   ],
   "source": [
    "#Aim of this code: if someone is under 18 years old, then a massage will tell them not able to sign up\n",
    "Name = input(\"Provide your name : \")\n",
    "Email = input(\"Provide your email : \")\n",
    "year_of_birth = input(\"Provide your year of birth : \")\n",
    "if year_of_birth > \"2003\":\n",
    "    print(\"You are not able to sign up\")\n",
    "else:\n",
    "    if year_of_birth <= \"2003\":\n",
    "        print(\"Congrats! You are able to sign up\")"
   ]
  },
  {
   "cell_type": "markdown",
   "id": "b3a4bbbe",
   "metadata": {},
   "source": [
    "### Sets"
   ]
  },
  {
   "cell_type": "markdown",
   "id": "a0d8071d",
   "metadata": {},
   "source": [
    "* Sets are used to store multiple items in a single variable.\n",
    "* A set is an unordered and mutable collection of unique elements. \n",
    "* Sets are written with curly brackets ({}), being the elements separated by commas. "
   ]
  },
  {
   "cell_type": "code",
   "execution_count": 6,
   "id": "942ab8a7",
   "metadata": {
    "scrolled": true
   },
   "outputs": [
    {
     "name": "stdout",
     "output_type": "stream",
     "text": [
      "\n",
      "Normal Set\n",
      "{'c', 'a', 'b'}\n"
     ]
    }
   ],
   "source": [
    "normal_set = set([\"a\", \"b\", \"c\"])\n",
    "print('\\nNormal Set')\n",
    "print(normal_set)"
   ]
  },
  {
   "cell_type": "code",
   "execution_count": 7,
   "id": "7a81a6f2",
   "metadata": {},
   "outputs": [
    {
     "name": "stdout",
     "output_type": "stream",
     "text": [
      "{'c', 'a', 'd', 'b'}\n"
     ]
    }
   ],
   "source": [
    "# Adding element to the set\n",
    "normal_set.add(\"d\")\n",
    "print(normal_set)"
   ]
  },
  {
   "cell_type": "markdown",
   "id": "137b7ad0",
   "metadata": {},
   "source": [
    "> Difference between a normal and a frozen set : *You cannot add element to a frozen set*"
   ]
  },
  {
   "cell_type": "code",
   "execution_count": 8,
   "id": "05ba3915",
   "metadata": {
    "scrolled": true
   },
   "outputs": [
    {
     "name": "stdout",
     "output_type": "stream",
     "text": [
      "\n",
      "Frozen Set\n",
      "frozenset({'g', 'f', 'e'})\n"
     ]
    }
   ],
   "source": [
    "\n",
    "frozen_set = frozenset([\"e\", \"f\", \"g\"])\n",
    "  \n",
    "print(\"\\nFrozen Set\")\n",
    "print(frozen_set)"
   ]
  },
  {
   "cell_type": "code",
   "execution_count": 9,
   "id": "a2f45d4a",
   "metadata": {},
   "outputs": [
    {
     "ename": "AttributeError",
     "evalue": "'frozenset' object has no attribute 'add'",
     "output_type": "error",
     "traceback": [
      "\u001b[0;31m---------------------------------------------------------------------------\u001b[0m",
      "\u001b[0;31mAttributeError\u001b[0m                            Traceback (most recent call last)",
      "\u001b[0;32m/var/folders/k4/ss07k4095qddhthn_dw8b3jr0000gn/T/ipykernel_10415/2080407089.py\u001b[0m in \u001b[0;36m<module>\u001b[0;34m\u001b[0m\n\u001b[0;32m----> 1\u001b[0;31m \u001b[0mfrozen_set\u001b[0m\u001b[0;34m.\u001b[0m\u001b[0madd\u001b[0m\u001b[0;34m(\u001b[0m\u001b[0;34m\"h\"\u001b[0m\u001b[0;34m)\u001b[0m \u001b[0;31m#So, it generates an error.\u001b[0m\u001b[0;34m\u001b[0m\u001b[0;34m\u001b[0m\u001b[0m\n\u001b[0m",
      "\u001b[0;31mAttributeError\u001b[0m: 'frozenset' object has no attribute 'add'"
     ]
    }
   ],
   "source": [
    "frozen_set.add(\"h\") #So, it generates an error."
   ]
  },
  {
   "cell_type": "markdown",
   "id": "3af59fb3",
   "metadata": {},
   "source": [
    "### Sequence Types : string, list, tuple"
   ]
  },
  {
   "cell_type": "markdown",
   "id": "84abfe2b",
   "metadata": {},
   "source": [
    "#### Strings — Text Sequence Type "
   ]
  },
  {
   "cell_type": "markdown",
   "id": "dd792082",
   "metadata": {},
   "source": [
    "*Important notes:*\n",
    "> You can include a \\ in your string to be able to include one of these quotes:"
   ]
  },
  {
   "cell_type": "code",
   "execution_count": 10,
   "id": "67f29efe",
   "metadata": {},
   "outputs": [
    {
     "name": "stdout",
     "output_type": "stream",
     "text": [
      "Umut's skateboard is in the garage.\n",
      "Umut's skateboard is in the garage.\n"
     ]
    }
   ],
   "source": [
    "this_string1 = 'Umut\\'s skateboard is in the garage.'\n",
    "this_string2 = \"Umut's skateboard is in the garage.\"\n",
    "print(this_string1)\n",
    "print(this_string2)"
   ]
  },
  {
   "cell_type": "markdown",
   "id": "afacd559",
   "metadata": {},
   "source": [
    "> *You can add a space using '  '.*"
   ]
  },
  {
   "cell_type": "code",
   "execution_count": null,
   "id": "0a18fb87",
   "metadata": {
    "scrolled": true
   },
   "outputs": [],
   "source": [
    "first_word = 'Hello'\n",
    "second_word = 'there'\n",
    "print(first_word + second_word)\n",
    "print(first_word + ' ' + second_word)"
   ]
  },
  {
   "cell_type": "markdown",
   "id": "750b8840",
   "metadata": {},
   "source": [
    "#### Lists"
   ]
  },
  {
   "cell_type": "code",
   "execution_count": null,
   "id": "0ca17d73",
   "metadata": {},
   "outputs": [],
   "source": [
    "list1 = [\"apple\", \"banana\", \"cherry\"]\n",
    "list2 = [1, 5, 7, 9,3]\n",
    "list3 = [True, False, False]\n",
    "list4 = [\"abc\", 34, True, 40, \"male\"]"
   ]
  },
  {
   "cell_type": "code",
   "execution_count": null,
   "id": "6030a6b3",
   "metadata": {},
   "outputs": [],
   "source": [
    "list1[1]"
   ]
  },
  {
   "cell_type": "code",
   "execution_count": null,
   "id": "8c023158",
   "metadata": {},
   "outputs": [],
   "source": [
    "list2[-1]"
   ]
  },
  {
   "cell_type": "code",
   "execution_count": null,
   "id": "fbd8edaf",
   "metadata": {},
   "outputs": [],
   "source": [
    "list3[0:3]"
   ]
  },
  {
   "cell_type": "code",
   "execution_count": null,
   "id": "b2b176ff",
   "metadata": {},
   "outputs": [],
   "source": [
    "list4[0]"
   ]
  },
  {
   "cell_type": "code",
   "execution_count": null,
   "id": "2ec7c1cf",
   "metadata": {},
   "outputs": [],
   "source": [
    "new_list = [list1[1], list2[-1], list3, list4[0]]\n",
    "print(new_list)"
   ]
  },
  {
   "cell_type": "markdown",
   "id": "2567f11b",
   "metadata": {},
   "source": [
    "#### Tuples"
   ]
  },
  {
   "cell_type": "markdown",
   "id": "b98fd361",
   "metadata": {},
   "source": [
    "* Tuples are a core data structure in Python. They let you store `an ordered sequence of items`. \n",
    "* A tuple is a collection which is `ordered` and `unchangeable`."
   ]
  },
  {
   "cell_type": "code",
   "execution_count": null,
   "id": "01d7f04f",
   "metadata": {},
   "outputs": [],
   "source": [
    "tuple_data = ('this', 'is', 'an', 'example', 'of', 'tuple')\n",
    "print(tuple_data)"
   ]
  },
  {
   "cell_type": "markdown",
   "id": "f684f9b1",
   "metadata": {},
   "source": [
    "### Numeric : int, float, complex"
   ]
  },
  {
   "cell_type": "markdown",
   "id": "f17dedbc",
   "metadata": {},
   "source": [
    "There are 3 distinct numeric types: `integers`, `floating point numbers`, and `complex numbers`."
   ]
  },
  {
   "cell_type": "markdown",
   "id": "3883edec",
   "metadata": {},
   "source": [
    "\n",
    "> **You can check the type of your variable as:**"
   ]
  },
  {
   "cell_type": "code",
   "execution_count": null,
   "id": "2d29068e",
   "metadata": {},
   "outputs": [],
   "source": [
    "number_of_trees = 34\n",
    "print(type(number_of_trees))"
   ]
  },
  {
   "cell_type": "markdown",
   "id": "325776f3",
   "metadata": {},
   "source": [
    "#### Integers"
   ]
  },
  {
   "cell_type": "markdown",
   "id": "13d73196",
   "metadata": {},
   "source": [
    "* Int, or integer, is a whole number, positive or negative, without decimals, of unlimited length.\n",
    "\n",
    "* The `int()` method returns an integer object from any number or string.\n"
   ]
  },
  {
   "cell_type": "code",
   "execution_count": null,
   "id": "b21bf02d",
   "metadata": {
    "scrolled": true
   },
   "outputs": [],
   "source": [
    "# integer\n",
    "print(\"int(987675) is:\", int(987675))"
   ]
  },
  {
   "cell_type": "code",
   "execution_count": null,
   "id": "181e47bb",
   "metadata": {},
   "outputs": [],
   "source": [
    "# float\n",
    "print(\"int(987675.55) is:\", int(987675.55))\n"
   ]
  },
  {
   "cell_type": "code",
   "execution_count": null,
   "id": "21213e15",
   "metadata": {},
   "outputs": [],
   "source": [
    "# string\n",
    "print(\"int('987675') is:\", int('987675'))"
   ]
  },
  {
   "cell_type": "markdown",
   "id": "fc55e6c8",
   "metadata": {},
   "source": [
    "#### Float"
   ]
  },
  {
   "cell_type": "markdown",
   "id": "73096169",
   "metadata": {},
   "source": [
    "* Float is used to represent real numbers and is written with a decimal point dividing the integer and fractional parts. \n",
    "* Python `float()` function is used to return a floating-point number from a number or a string."
   ]
  },
  {
   "cell_type": "code",
   "execution_count": null,
   "id": "090020d3",
   "metadata": {},
   "outputs": [],
   "source": [
    "our_int = 98548769843\n",
    "\n",
    "# You can easily convert this integer number to a float:\n"
   ]
  },
  {
   "cell_type": "code",
   "execution_count": null,
   "id": "748c7816",
   "metadata": {},
   "outputs": [],
   "source": [
    "our_float = float(our_int)\n",
    "\n",
    "print(our_float)\n"
   ]
  },
  {
   "cell_type": "markdown",
   "id": "76411de0",
   "metadata": {},
   "source": [
    "#### Complex Number "
   ]
  },
  {
   "cell_type": "markdown",
   "id": "68119b48",
   "metadata": {},
   "source": [
    "* A Complex Number is any number of the form `a + bj` , where a and b are real numbers, and `j*j = -1`.\n",
    "* A complex number is created from real numbers. \n",
    "* Python complex number can be created either using direct assignment statement or by using `complex()` function.\n",
    "* Syntax: `complex([real[, imag]])`"
   ]
  },
  {
   "cell_type": "markdown",
   "id": "eb08b5da",
   "metadata": {},
   "source": [
    "> Complex numbers don’t support comparison operators like `<, >, <=, =>` and it will through TypeError message.\n",
    "\n",
    "> You can use `cmath`"
   ]
  },
  {
   "cell_type": "code",
   "execution_count": null,
   "id": "9d115cad",
   "metadata": {},
   "outputs": [],
   "source": [
    "import cmath\n",
    "print('π =', cmath.pi)\n",
    "print('e =', cmath.e)\n",
    "print('tau =', cmath.tau)\n",
    "print('Positive infinity =', cmath.inf)\n",
    "print('Positive Complex infinity =', cmath.infj)\n",
    "print('NaN =', cmath.nan)\n",
    "print('NaN Complex =', cmath.nanj)"
   ]
  },
  {
   "cell_type": "markdown",
   "id": "e376a0d5",
   "metadata": {},
   "source": [
    "### Dictionary"
   ]
  },
  {
   "cell_type": "markdown",
   "id": "9a957ead",
   "metadata": {},
   "source": [
    "* A Python dictionary is one such data structure that can store data in the form of `key-value pairs`.\n",
    "* Each key is separated from its value by a colon (:), the items are separated by commas, and the whole thing is enclosed in curly braces."
   ]
  },
  {
   "cell_type": "markdown",
   "id": "0aaf9a6c",
   "metadata": {},
   "source": [
    "*Important Note:*\n",
    "> You should notice that `data type` names should not be assigned as `variable` name. \n",
    "- `dict = { \"brand\": \"Porsche\", \"model\":\"Cayman S\", \"year\": 2005}`\n",
    "- `cars = { \"brand\": \"Porsche\", \"model\":\"Cayman S\", \"year\": 2005}`"
   ]
  },
  {
   "cell_type": "code",
   "execution_count": null,
   "id": "a1b7187d",
   "metadata": {},
   "outputs": [],
   "source": [
    "cars = { \"brand\": \"Porsche\", \"model\":\"Cayman S\", \"year\": 2005}"
   ]
  },
  {
   "cell_type": "code",
   "execution_count": null,
   "id": "c2e38db2",
   "metadata": {},
   "outputs": [],
   "source": [
    "cars[\"brand\"]"
   ]
  },
  {
   "cell_type": "markdown",
   "id": "16dde4f5",
   "metadata": {},
   "source": [
    "## Operators"
   ]
  },
  {
   "cell_type": "markdown",
   "id": "dc56c0ee",
   "metadata": {},
   "source": [
    "<img src=\"images/python_operators.png\" width=900 height=900 />"
   ]
  },
  {
   "cell_type": "markdown",
   "id": "0f6e6651",
   "metadata": {},
   "source": [
    "> Python uses == for checking equality rather than =. Because = is used to assign variables. "
   ]
  },
  {
   "cell_type": "code",
   "execution_count": null,
   "id": "bd39da1b",
   "metadata": {
    "scrolled": true
   },
   "outputs": [],
   "source": [
    "3 == 5"
   ]
  },
  {
   "cell_type": "markdown",
   "id": "5090d8a5",
   "metadata": {},
   "source": [
    "> != means not equal."
   ]
  },
  {
   "cell_type": "code",
   "execution_count": null,
   "id": "a64d40c4",
   "metadata": {
    "scrolled": true
   },
   "outputs": [],
   "source": [
    "3 != 5"
   ]
  }
 ],
 "metadata": {
  "kernelspec": {
   "display_name": "Python 3 (ipykernel)",
   "language": "python",
   "name": "python3"
  },
  "language_info": {
   "codemirror_mode": {
    "name": "ipython",
    "version": 3
   },
   "file_extension": ".py",
   "mimetype": "text/x-python",
   "name": "python",
   "nbconvert_exporter": "python",
   "pygments_lexer": "ipython3",
   "version": "3.9.7"
  },
  "toc": {
   "base_numbering": "1",
   "nav_menu": {},
   "number_sections": true,
   "sideBar": true,
   "skip_h1_title": true,
   "title_cell": "Table of Contents",
   "title_sidebar": "Contents",
   "toc_cell": false,
   "toc_position": {},
   "toc_section_display": true,
   "toc_window_display": true
  }
 },
 "nbformat": 4,
 "nbformat_minor": 5
}
